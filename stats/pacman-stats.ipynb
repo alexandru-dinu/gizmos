{
 "cells": [
  {
   "cell_type": "code",
   "execution_count": 1,
   "metadata": {},
   "outputs": [],
   "source": [
    "import subprocess as sp\n",
    "import pandas as pd"
   ]
  },
  {
   "cell_type": "code",
   "execution_count": 2,
   "metadata": {},
   "outputs": [
    {
     "name": "stdout",
     "output_type": "stream",
     "text": [
      "entries: 3103\n"
     ]
    }
   ],
   "source": [
    "out, err = sp.Popen(['pacman-history'], stdout=sp.PIPE).communicate()\n",
    "out = out.decode('utf-8').strip().split('\\n')\n",
    "print(f'entries: {len(out)}')"
   ]
  },
  {
   "cell_type": "code",
   "execution_count": 3,
   "metadata": {},
   "outputs": [
    {
     "data": {
      "text/html": [
       "<div>\n",
       "<style scoped>\n",
       "    .dataframe tbody tr th:only-of-type {\n",
       "        vertical-align: middle;\n",
       "    }\n",
       "\n",
       "    .dataframe tbody tr th {\n",
       "        vertical-align: top;\n",
       "    }\n",
       "\n",
       "    .dataframe thead th {\n",
       "        text-align: right;\n",
       "    }\n",
       "</style>\n",
       "<table border=\"1\" class=\"dataframe\">\n",
       "  <thead>\n",
       "    <tr style=\"text-align: right;\">\n",
       "      <th></th>\n",
       "      <th>05</th>\n",
       "      <th>06</th>\n",
       "      <th>07</th>\n",
       "      <th>08</th>\n",
       "      <th>09</th>\n",
       "      <th>10</th>\n",
       "      <th>11</th>\n",
       "      <th>12</th>\n",
       "      <th>01</th>\n",
       "      <th>02</th>\n",
       "      <th>03</th>\n",
       "      <th>04</th>\n",
       "      <th>total</th>\n",
       "    </tr>\n",
       "  </thead>\n",
       "  <tbody>\n",
       "    <tr>\n",
       "      <th>+</th>\n",
       "      <td>312</td>\n",
       "      <td>97</td>\n",
       "      <td>85</td>\n",
       "      <td>41</td>\n",
       "      <td>31</td>\n",
       "      <td>22</td>\n",
       "      <td>119</td>\n",
       "      <td>33</td>\n",
       "      <td>118</td>\n",
       "      <td>1</td>\n",
       "      <td>162</td>\n",
       "      <td>702</td>\n",
       "      <td>1723</td>\n",
       "    </tr>\n",
       "    <tr>\n",
       "      <th>*</th>\n",
       "      <td>14</td>\n",
       "      <td>1</td>\n",
       "      <td>6</td>\n",
       "      <td>0</td>\n",
       "      <td>0</td>\n",
       "      <td>0</td>\n",
       "      <td>4</td>\n",
       "      <td>1</td>\n",
       "      <td>4</td>\n",
       "      <td>0</td>\n",
       "      <td>12</td>\n",
       "      <td>8</td>\n",
       "      <td>50</td>\n",
       "    </tr>\n",
       "    <tr>\n",
       "      <th>-</th>\n",
       "      <td>146</td>\n",
       "      <td>67</td>\n",
       "      <td>64</td>\n",
       "      <td>2</td>\n",
       "      <td>5</td>\n",
       "      <td>13</td>\n",
       "      <td>136</td>\n",
       "      <td>13</td>\n",
       "      <td>30</td>\n",
       "      <td>21</td>\n",
       "      <td>115</td>\n",
       "      <td>718</td>\n",
       "      <td>1330</td>\n",
       "    </tr>\n",
       "  </tbody>\n",
       "</table>\n",
       "</div>"
      ],
      "text/plain": [
       "    05  06  07  08  09  10   11  12   01  02   03   04  total\n",
       "+  312  97  85  41  31  22  119  33  118   1  162  702   1723\n",
       "*   14   1   6   0   0   0    4   1    4   0   12    8     50\n",
       "-  146  67  64   2   5  13  136  13   30  21  115  718   1330"
      ]
     },
     "execution_count": 3,
     "metadata": {},
     "output_type": "execute_result"
    }
   ],
   "source": [
    "def split(xs):\n",
    "    d = {'+': 0, '*': 0, '-':0}\n",
    "    for l in xs:\n",
    "        if ' installed ' in l:\n",
    "            d['+'] += 1\n",
    "        elif ' reinstalled ' in l:\n",
    "            d['*'] += 1\n",
    "        elif ' removed ' in l:\n",
    "            d['-'] += 1\n",
    "        else:\n",
    "            assert(False)\n",
    "    return d\n",
    "\n",
    "data = {\n",
    "    f'{k:02d}': split([l for l in out if l.startswith(f'[2019-{k:02d}') or l.startswith(f'[2020-{k:02d}')]) \n",
    "    for k in [5,6,7,8,9,10,11,12,1,2,3,4]\n",
    "}\n",
    "\n",
    "df = pd.DataFrame.from_dict(data)\n",
    "df['total'] = df.sum(axis=1)\n",
    "df"
   ]
  },
  {
   "cell_type": "code",
   "execution_count": 4,
   "metadata": {},
   "outputs": [
    {
     "data": {
      "text/html": [
       "<div>\n",
       "<style scoped>\n",
       "    .dataframe tbody tr th:only-of-type {\n",
       "        vertical-align: middle;\n",
       "    }\n",
       "\n",
       "    .dataframe tbody tr th {\n",
       "        vertical-align: top;\n",
       "    }\n",
       "\n",
       "    .dataframe thead th {\n",
       "        text-align: right;\n",
       "    }\n",
       "</style>\n",
       "<table border=\"1\" class=\"dataframe\">\n",
       "  <thead>\n",
       "    <tr style=\"text-align: right;\">\n",
       "      <th></th>\n",
       "      <th>+</th>\n",
       "      <th>*</th>\n",
       "      <th>-</th>\n",
       "    </tr>\n",
       "  </thead>\n",
       "  <tbody>\n",
       "    <tr>\n",
       "      <th>count</th>\n",
       "      <td>13.000</td>\n",
       "      <td>13.000</td>\n",
       "      <td>13.000</td>\n",
       "    </tr>\n",
       "    <tr>\n",
       "      <th>mean</th>\n",
       "      <td>265.077</td>\n",
       "      <td>7.692</td>\n",
       "      <td>204.615</td>\n",
       "    </tr>\n",
       "    <tr>\n",
       "      <th>std</th>\n",
       "      <td>476.148</td>\n",
       "      <td>13.555</td>\n",
       "      <td>387.672</td>\n",
       "    </tr>\n",
       "    <tr>\n",
       "      <th>min</th>\n",
       "      <td>1.000</td>\n",
       "      <td>0.000</td>\n",
       "      <td>2.000</td>\n",
       "    </tr>\n",
       "    <tr>\n",
       "      <th>25%</th>\n",
       "      <td>33.000</td>\n",
       "      <td>0.000</td>\n",
       "      <td>13.000</td>\n",
       "    </tr>\n",
       "    <tr>\n",
       "      <th>50%</th>\n",
       "      <td>97.000</td>\n",
       "      <td>4.000</td>\n",
       "      <td>64.000</td>\n",
       "    </tr>\n",
       "    <tr>\n",
       "      <th>75%</th>\n",
       "      <td>162.000</td>\n",
       "      <td>8.000</td>\n",
       "      <td>136.000</td>\n",
       "    </tr>\n",
       "    <tr>\n",
       "      <th>max</th>\n",
       "      <td>1723.000</td>\n",
       "      <td>50.000</td>\n",
       "      <td>1330.000</td>\n",
       "    </tr>\n",
       "  </tbody>\n",
       "</table>\n",
       "</div>"
      ],
      "text/plain": [
       "              +       *         -\n",
       "count    13.000  13.000    13.000\n",
       "mean    265.077   7.692   204.615\n",
       "std     476.148  13.555   387.672\n",
       "min       1.000   0.000     2.000\n",
       "25%      33.000   0.000    13.000\n",
       "50%      97.000   4.000    64.000\n",
       "75%     162.000   8.000   136.000\n",
       "max    1723.000  50.000  1330.000"
      ]
     },
     "execution_count": 4,
     "metadata": {},
     "output_type": "execute_result"
    }
   ],
   "source": [
    "df.transpose().apply(pd.DataFrame.describe).round(decimals=3)"
   ]
  },
  {
   "cell_type": "code",
   "execution_count": 5,
   "metadata": {},
   "outputs": [
    {
     "data": {
      "text/plain": [
       "<matplotlib.axes._subplots.AxesSubplot at 0x7f680af96d50>"
      ]
     },
     "execution_count": 5,
     "metadata": {},
     "output_type": "execute_result"
    },
    {
     "data": {
      "image/png": "[encoded data removed]",
      "text/plain": [
       "<Figure size 1152x576 with 1 Axes>"
      ]
     },
     "metadata": {
      "needs_background": "light"
     },
     "output_type": "display_data"
    }
   ],
   "source": [
    "df.transpose().iloc[:-1, :].plot.bar(figsize=(16,8), color=['c', 'orange', 'magenta'])"
   ]
  }
 ],
 "metadata": {
  "kernelspec": {
   "display_name": "Python 3",
   "language": "python",
   "name": "python3"
  },
  "language_info": {
   "codemirror_mode": {
    "name": "ipython",
    "version": 3
   },
   "file_extension": ".py",
   "mimetype": "text/x-python",
   "name": "python",
   "nbconvert_exporter": "python",
   "pygments_lexer": "ipython3",
   "version": "3.7.6"
  }
 },
 "nbformat": 4,
 "nbformat_minor": 4
}
