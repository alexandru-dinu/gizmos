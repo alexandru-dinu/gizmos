{
 "cells": [
  {
   "cell_type": "code",
   "execution_count": 1,
   "metadata": {},
   "outputs": [],
   "source": [
    "import subprocess as sp\n",
    "import pandas as pd"
   ]
  },
  {
   "cell_type": "code",
   "execution_count": 2,
   "metadata": {},
   "outputs": [],
   "source": [
    "out, err = sp.Popen(['pacman-history'], stdout=sp.PIPE).communicate()\n",
    "out = out.decode('utf-8').strip().split('\\n')"
   ]
  },
  {
   "cell_type": "code",
   "execution_count": 3,
   "metadata": {},
   "outputs": [],
   "source": [
    "def split(xs):\n",
    "    d = {'i': 0, 'ri': 0, 'r':0}\n",
    "    for l in xs:\n",
    "        if ' installed ' in l:\n",
    "            d['i'] += 1\n",
    "        elif ' reinstalled ' in l:\n",
    "            d['ri'] += 1\n",
    "        elif ' removed ' in l:\n",
    "            d['r'] += 1\n",
    "    return d\n",
    "\n",
    "data = {\n",
    "    f'{k:02d}': split([l for l in out if l.startswith(f'[2019-{k:02d}') or l.startswith(f'[2020-{k:02d}')]) \n",
    "    for k in [5,6,7,8,9,10,11,12,1,2,3,4]\n",
    "}\n",
    "\n",
    "df = pd.DataFrame.from_dict(data)"
   ]
  },
  {
   "cell_type": "code",
   "execution_count": 4,
   "metadata": {},
   "outputs": [
    {
     "data": {
      "text/html": [
       "<div>\n",
       "<style scoped>\n",
       "    .dataframe tbody tr th:only-of-type {\n",
       "        vertical-align: middle;\n",
       "    }\n",
       "\n",
       "    .dataframe tbody tr th {\n",
       "        vertical-align: top;\n",
       "    }\n",
       "\n",
       "    .dataframe thead th {\n",
       "        text-align: right;\n",
       "    }\n",
       "</style>\n",
       "<table border=\"1\" class=\"dataframe\">\n",
       "  <thead>\n",
       "    <tr style=\"text-align: right;\">\n",
       "      <th></th>\n",
       "      <th>05</th>\n",
       "      <th>06</th>\n",
       "      <th>07</th>\n",
       "      <th>08</th>\n",
       "      <th>09</th>\n",
       "      <th>10</th>\n",
       "      <th>11</th>\n",
       "      <th>12</th>\n",
       "      <th>01</th>\n",
       "      <th>02</th>\n",
       "      <th>03</th>\n",
       "      <th>04</th>\n",
       "    </tr>\n",
       "  </thead>\n",
       "  <tbody>\n",
       "    <tr>\n",
       "      <th>i</th>\n",
       "      <td>313</td>\n",
       "      <td>97</td>\n",
       "      <td>86</td>\n",
       "      <td>41</td>\n",
       "      <td>32</td>\n",
       "      <td>23</td>\n",
       "      <td>120</td>\n",
       "      <td>33</td>\n",
       "      <td>118</td>\n",
       "      <td>1</td>\n",
       "      <td>164</td>\n",
       "      <td>685</td>\n",
       "    </tr>\n",
       "    <tr>\n",
       "      <th>ri</th>\n",
       "      <td>14</td>\n",
       "      <td>1</td>\n",
       "      <td>6</td>\n",
       "      <td>0</td>\n",
       "      <td>0</td>\n",
       "      <td>0</td>\n",
       "      <td>4</td>\n",
       "      <td>1</td>\n",
       "      <td>4</td>\n",
       "      <td>0</td>\n",
       "      <td>12</td>\n",
       "      <td>5</td>\n",
       "    </tr>\n",
       "    <tr>\n",
       "      <th>r</th>\n",
       "      <td>146</td>\n",
       "      <td>67</td>\n",
       "      <td>64</td>\n",
       "      <td>2</td>\n",
       "      <td>5</td>\n",
       "      <td>13</td>\n",
       "      <td>136</td>\n",
       "      <td>13</td>\n",
       "      <td>30</td>\n",
       "      <td>21</td>\n",
       "      <td>115</td>\n",
       "      <td>701</td>\n",
       "    </tr>\n",
       "  </tbody>\n",
       "</table>\n",
       "</div>"
      ],
      "text/plain": [
       "     05  06  07  08  09  10   11  12   01  02   03   04\n",
       "i   313  97  86  41  32  23  120  33  118   1  164  685\n",
       "ri   14   1   6   0   0   0    4   1    4   0   12    5\n",
       "r   146  67  64   2   5  13  136  13   30  21  115  701"
      ]
     },
     "execution_count": 4,
     "metadata": {},
     "output_type": "execute_result"
    }
   ],
   "source": [
    "df"
   ]
  },
  {
   "cell_type": "code",
   "execution_count": 5,
   "metadata": {},
   "outputs": [
    {
     "name": "stdout",
     "output_type": "stream",
     "text": [
      "count     12.000000\n",
      "mean     142.750000\n",
      "std      190.456927\n",
      "min        1.000000\n",
      "25%       32.750000\n",
      "50%       91.500000\n",
      "75%      131.000000\n",
      "max      685.000000\n",
      "Name: i, dtype: float64\n",
      "--------------------------------\n",
      "count    12.000000\n",
      "mean      3.916667\n",
      "std       4.776045\n",
      "min       0.000000\n",
      "25%       0.000000\n",
      "50%       2.500000\n",
      "75%       5.250000\n",
      "max      14.000000\n",
      "Name: ri, dtype: float64\n",
      "--------------------------------\n",
      "count     12.000000\n",
      "mean     109.416667\n",
      "std      193.312492\n",
      "min        2.000000\n",
      "25%       13.000000\n",
      "50%       47.000000\n",
      "75%      120.250000\n",
      "max      701.000000\n",
      "Name: r, dtype: float64\n",
      "--------------------------------\n"
     ]
    }
   ],
   "source": [
    "for k in ['i', 'ri', 'r']:\n",
    "    print(df.loc[k].describe())\n",
    "    print('-' * 32)"
   ]
  },
  {
   "cell_type": "code",
   "execution_count": 6,
   "metadata": {},
   "outputs": [
    {
     "data": {
      "text/plain": [
       "<matplotlib.axes._subplots.AxesSubplot at 0x7fa722807a10>"
      ]
     },
     "execution_count": 6,
     "metadata": {},
     "output_type": "execute_result"
    },
    {
     "data": {
      "image/png": "[encoded data removed]",
      "text/plain": [
       "<Figure size 1152x576 with 1 Axes>"
      ]
     },
     "metadata": {
      "needs_background": "light"
     },
     "output_type": "display_data"
    }
   ],
   "source": [
    "df.transpose().plot.bar(figsize=(16,8))"
   ]
  }
 ],
 "metadata": {
  "kernelspec": {
   "display_name": "Python 3",
   "language": "python",
   "name": "python3"
  },
  "language_info": {
   "codemirror_mode": {
    "name": "ipython",
    "version": 3
   },
   "file_extension": ".py",
   "mimetype": "text/x-python",
   "name": "python",
   "nbconvert_exporter": "python",
   "pygments_lexer": "ipython3",
   "version": "3.7.6"
  }
 },
 "nbformat": 4,
 "nbformat_minor": 4
}
